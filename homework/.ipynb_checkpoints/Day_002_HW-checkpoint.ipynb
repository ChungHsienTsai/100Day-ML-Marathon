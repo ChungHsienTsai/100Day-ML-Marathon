{
 "cells": [
  {
   "cell_type": "markdown",
   "metadata": {},
   "source": [
    "## [作業目標]\n",
    "了解機器學習適合應用的領域與範疇。"
   ]
  },
  {
   "cell_type": "markdown",
   "metadata": {},
   "source": [
    "## [作業重點]\n",
    "透過瞭解機器學習的運作方式，找出非常適用機器學習應用的領域及其原因"
   ]
  },
  {
   "cell_type": "markdown",
   "metadata": {},
   "source": [
    "## 作業\n",
    "請找出一個你認為機器學習可以發光發熱的領域並闡述原因? "
   ]
  },
  {
   "cell_type": "markdown",
   "metadata": {},
   "source": [
    "答：智慧農業，\n",
    "例如，這些年來，農藥被調查出來是蜜蜂大量死亡的可能原因。\n",
    "所以可以運用空中無人載具先行針對蜜蜂採蜜區域進行拍攝航拍影像，\n",
    "透過機器學習之影像分析與識別，可以判別採蜜區域是否有噴灑農藥，\n",
    "這樣可以讓蜂農在蜜蜂採蜜時所在區域是否安全。而不會造成蜜蜂大量死亡。"
   ]
  },
  {
   "cell_type": "markdown",
   "metadata": {},
   "source": [
    "## 作業\n",
    "機器學習、深度學習與人工智慧差別是甚麼? 機器學習又有甚麼主題應用?"
   ]
  },
  {
   "cell_type": "markdown",
   "metadata": {},
   "source": [
    "答：人工智慧是未來科技發展的趨勢。人工智慧是科幻的恣意想像。人工智慧早就存在於我們的日常生活。\n",
    "機器學習 —  達到人工智慧的方法\n",
    "深度學習 — 執行機器學習的技術\n",
    "計算機視覺、自然語言處理等都是重要的主題應用"
   ]
  },
  {
   "cell_type": "code",
   "execution_count": null,
   "metadata": {},
   "outputs": [],
   "source": []
  }
 ],
 "metadata": {
  "kernelspec": {
   "display_name": "Python 3",
   "language": "python",
   "name": "python3"
  },
  "language_info": {
   "codemirror_mode": {
    "name": "ipython",
    "version": 3
   },
   "file_extension": ".py",
   "mimetype": "text/x-python",
   "name": "python",
   "nbconvert_exporter": "python",
   "pygments_lexer": "ipython3",
   "version": "3.7.3"
  }
 },
 "nbformat": 4,
 "nbformat_minor": 2
}
